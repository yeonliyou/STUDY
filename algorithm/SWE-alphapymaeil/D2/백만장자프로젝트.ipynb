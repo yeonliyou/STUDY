{
 "cells": [
  {
   "attachments": {
    "image.png": {
     "image/png": "[encoded data removed]"
    }
   },
   "cell_type": "markdown",
   "id": "34109bb2",
   "metadata": {},
   "source": [
    "### 백만 장자 프로젝트\n",
    "\n",
    "25년 간의 수행 끝에 원재는 미래를 보는 능력을 갖게 되었다. 이 능력으로 원재는 사재기를 하려고 한다.\n",
    "\n",
    "다만 당국의 감시가 심해 한 번에 많은 양을 사재기 할 수 없다.\n",
    "\n",
    "다음과 같은 조건 하에서 사재기를 하여 최대한의 이득을 얻도록 도와주자.\n",
    "\n",
    "    1. 원재는 연속된 N일 동안의 물건의 매매가를 예측하여 알고 있다.\n",
    "    2. 당국의 감시망에 걸리지 않기 위해 하루에 최대 1만큼 구입할 수 있다.\n",
    "    3. 판매는 얼마든지 할 수 있다.\n",
    "\n",
    "예를 들어 3일 동안의 매매가가 1, 2, 3 이라면 처음 두 날에 원료를 구매하여 마지막 날에 팔면 3의 이익을 얻을 수 있다.\n",
    "\n",
    "\n",
    "[입력]\n",
    "\n",
    "첫 번째 줄에 테스트 케이스의 수 T가 주어진다.\n",
    "\n",
    "각 테스트 케이스 별로 첫 줄에는 자연수 N(2 ≤ N ≤ 1,000,000)이 주어지고,\n",
    "\n",
    "둘째 줄에는 각 날의 매매가를 나타내는 N개의 자연수들이 공백으로 구분되어 순서대로 주어진다.\n",
    "\n",
    "각 날의 매매가는 10,000이하이다.\n",
    "\n",
    "\n",
    "[출력]\n",
    "\n",
    "각 테스트 케이스마다 ‘#x’(x는 테스트케이스 번호를 의미하며 1부터 시작한다)를 출력하고, 최대 이익을 출력한다.\n",
    "\n",
    "\n",
    "[예제 풀이]\n",
    "\n",
    "1번째 케이스는 아무 것도 사지 않는 것이 최대 이익이다.\n",
    "\n",
    "2번째 케이스는 1,2일에 각각 한 개씩 사서 세 번째 날에 두 개를 팔면 10의 이익을 얻을 수 있다.\n",
    "\n",
    "![image.png](attachment:image.png)"
   ]
  },
  {
   "cell_type": "code",
   "execution_count": 19,
   "id": "eb4d68be",
   "metadata": {},
   "outputs": [
    {
     "name": "stdout",
     "output_type": "stream",
     "text": [
      "10\n",
      "7\n",
      "#1 0\n",
      "3\n",
      "[5, 9]\n",
      "[3]\n",
      "9\n",
      "9\n",
      "6\n",
      "#2 6\n"
     ]
    },
    {
     "ename": "ValueError",
     "evalue": "invalid literal for int() with base 10: ''",
     "output_type": "error",
     "traceback": [
      "\u001b[31m---------------------------------------------------------------------------\u001b[39m",
      "\u001b[31mValueError\u001b[39m                                Traceback (most recent call last)",
      "\u001b[36mCell\u001b[39m\u001b[36m \u001b[39m\u001b[32mIn[19]\u001b[39m\u001b[32m, line 4\u001b[39m\n\u001b[32m      1\u001b[39m T = \u001b[38;5;28mint\u001b[39m(\u001b[38;5;28minput\u001b[39m())\n\u001b[32m      3\u001b[39m \u001b[38;5;28;01mfor\u001b[39;00m t \u001b[38;5;129;01min\u001b[39;00m \u001b[38;5;28mrange\u001b[39m(T):\n\u001b[32m----> \u001b[39m\u001b[32m4\u001b[39m     N = \u001b[38;5;28;43mint\u001b[39;49m\u001b[43m(\u001b[49m\u001b[38;5;28;43minput\u001b[39;49m\u001b[43m(\u001b[49m\u001b[43m)\u001b[49m\u001b[43m)\u001b[49m\n\u001b[32m      5\u001b[39m     \u001b[38;5;66;03m#매매가 리스트 받기\u001b[39;00m\n\u001b[32m      6\u001b[39m     price_list = \u001b[38;5;28mlist\u001b[39m(\u001b[38;5;28mmap\u001b[39m(\u001b[38;5;28mint\u001b[39m, \u001b[38;5;28minput\u001b[39m().split()))\n",
      "\u001b[31mValueError\u001b[39m: invalid literal for int() with base 10: ''"
     ]
    }
   ],
   "source": [
    "T = int(input())\n",
    "\n",
    "for t in range(T):\n",
    "    N = int(input())\n",
    "    #매매가 리스트 받기\n",
    "    price_list = list(map(int, input().split()))\n",
    "    total_earning = 0\n",
    "\n",
    "    #매도할 시점까지의 리스트 쪼개기\n",
    "    while len(price_list) > 1:\n",
    "        #구매할 때마다 해당 가격을 추가할 리스트\n",
    "        buy_list = []\n",
    "        sum = 0\n",
    "\n",
    "        for idx, price in enumerate(price_list):\n",
    "            print(price)\n",
    "\n",
    "            #다음 인덱스가 존재할때\n",
    "            if idx < len(price_list)-1:\n",
    "                #만약 현재 price가 바로 뒤의 price보다 작다면, 구매하기 (오름차순로 들어감)\n",
    "                if price < price_list[idx+1]:\n",
    "                    buy_list.append(price)\n",
    "                    price_list.pop(idx)\n",
    "                    \n",
    "                    print(price_list)\n",
    "                    print(buy_list)\n",
    "                #오름차순으로 buy_list에 들어가다가 만약 현재 price가 바로 뒤 price보다 크면 매도하여 이익 실현\n",
    "                else:\n",
    "                    if len(buy_list) > 0: #buy_list 목록이 1개 이상이라면\n",
    "                        max_value = price\n",
    "                        print(max_value)\n",
    "\n",
    "                        price_list.pop(idx)\n",
    "                        earning = 0\n",
    "\n",
    "                        for i in buy_list:\n",
    "                            sum += (max_value - i)\n",
    "                        \n",
    "                        print(sum)\n",
    "                        \n",
    "                        total_earning += sum\n",
    "\n",
    "                        break\n",
    "                    #buy_list에 추가했던게 없으면 패스\n",
    "                    else:\n",
    "                        price_list.pop(idx)\n",
    "                        break\n",
    "            #price_list의 마지막 요소일 때\n",
    "            else:\n",
    "                if len(buy_list) > 0: #buy_list 목록이 1개 이상이라면\n",
    "                        max_value = price\n",
    "                        print(max_value)\n",
    "\n",
    "                        price_list.pop(idx)\n",
    "                        earning = 0\n",
    "\n",
    "                        for i in buy_list:\n",
    "                            sum += (max_value - i)\n",
    "                        \n",
    "                        print(sum)\n",
    "                        \n",
    "                        total_earning += sum\n",
    "                else:\n",
    "                    pass\n",
    "\n",
    "    print(f\"#{t+1}\", total_earning)\n"
   ]
  },
  {
   "cell_type": "markdown",
   "id": "7db6ccef",
   "metadata": {},
   "source": [
    "#### 주의할 점\n",
    "- for문 enumerate(list)로 돌 때 아래에서 pop이나 remove로 리스트 바뀌면 다시 for문 돌아올 때 바뀐 리스트에서 다음 인데스로 순회함"
   ]
  },
  {
   "cell_type": "markdown",
   "id": "1a52c809",
   "metadata": {},
   "source": []
  }
 ],
 "metadata": {
  "kernelspec": {
   "display_name": "Python 3",
   "language": "python",
   "name": "python3"
  },
  "language_info": {
   "codemirror_mode": {
    "name": "ipython",
    "version": 3
   },
   "file_extension": ".py",
   "mimetype": "text/x-python",
   "name": "python",
   "nbconvert_exporter": "python",
   "pygments_lexer": "ipython3",
   "version": "3.11.9"
  }
 },
 "nbformat": 4,
 "nbformat_minor": 5
}
