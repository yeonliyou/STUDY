{
 "cells": [
  {
   "cell_type": "markdown",
   "id": "0ccbc68c",
   "metadata": {},
   "source": []
  },
  {
   "cell_type": "code",
   "execution_count": null,
   "id": "dd02fb85",
   "metadata": {},
   "outputs": [
    {
     "name": "stdout",
     "output_type": "stream",
     "text": [
      "#1\n",
      "30\n",
      "AAAAAAAAAA\n",
      "AAAAABBCCC\n",
      "CCCCCDDDDD\n",
      "\n"
     ]
    }
   ],
   "source": [
    "T = int(input())\n",
    "\n",
    "for t in range(1,T+1):\n",
    "    N = int(input())\n",
    "\n",
    "    #테스트 케이스 번호 출력\n",
    "    print(f\"#{t}\")\n",
    "\n",
    "    #압축 풀어서 전체 한줄로 만들기\n",
    "    anw_str = ''\n",
    "\n",
    "    #압축 푼 문자 총 갯수\n",
    "    total_cnt = 0\n",
    "\n",
    "    for t2 in range(1, N+1):\n",
    "        ci, ki = input().split()  #알파벳, 개수 받기\n",
    "        \n",
    "        ci = str(ci)  #문자열로 바꿔주기\n",
    "        ki = int(ki)  #개수 정수로 바꿔주기\n",
    "        total_cnt += ki\n",
    "        \n",
    "        #압축 개수만큼 반복문\n",
    "        for _ in range(ki):\n",
    "            anw_str += ci\n",
    "\n",
    "    #인덱스 초기화\n",
    "    idx = 0\n",
    "    while idx < total_cnt - total_cnt%10:\n",
    "        print(anw_str[idx : idx + 10])   #i번부터 i+9번까지 슬라이싱해서 프린트\n",
    "        idx += 10\n",
    "    #마지막 줄 출력\n",
    "    print(anw_str[idx:])\n",
    "\n",
    "\n",
    "        "
   ]
  },
  {
   "cell_type": "code",
   "execution_count": null,
   "id": "ff72c058",
   "metadata": {},
   "outputs": [],
   "source": []
  }
 ],
 "metadata": {
  "kernelspec": {
   "display_name": "Python 3",
   "language": "python",
   "name": "python3"
  },
  "language_info": {
   "codemirror_mode": {
    "name": "ipython",
    "version": 3
   },
   "file_extension": ".py",
   "mimetype": "text/x-python",
   "name": "python",
   "nbconvert_exporter": "python",
   "pygments_lexer": "ipython3",
   "version": "3.11.9"
  }
 },
 "nbformat": 4,
 "nbformat_minor": 5
}
