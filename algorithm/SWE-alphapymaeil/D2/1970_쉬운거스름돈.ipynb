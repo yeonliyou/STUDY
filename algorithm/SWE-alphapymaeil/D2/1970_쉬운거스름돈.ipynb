{
 "cells": [
  {
   "cell_type": "markdown",
   "id": "00c95108",
   "metadata": {},
   "source": []
  },
  {
   "cell_type": "code",
   "execution_count": 4,
   "id": "bdb9ee7b",
   "metadata": {},
   "outputs": [
    {
     "name": "stdout",
     "output_type": "stream",
     "text": [
      "#1\n",
      "0 3 0 2 1 3 1 0\n",
      "#2\n",
      "0 0 0 0 0 1 1 1\n"
     ]
    }
   ],
   "source": [
    "T = int(input())\n",
    "\n",
    "money_list = [50000, 10000, 5000, 1000, 500, 100, 50, 10]\n",
    "\n",
    "for t in range(1, T+1):\n",
    "    N = int(input())\n",
    "\n",
    "    #각 화폐의 사용 개수를 저장할 리스트\n",
    "    ans_list = [0 for _ in range(8)]\n",
    "\n",
    "    for idx, money in enumerate(money_list):\n",
    "        #더이상 거스름돈을 만들 필요가 없다면 (현재 남은 돈이 0이라면)\n",
    "        if N == 0:\n",
    "            break\n",
    "        \n",
    "        #현재 남은 돈을 money로 나눈 몫이 최소 1이면\n",
    "        elif N // money != 0:\n",
    "            ans_list[idx] = N // money\n",
    "            N %= money\n",
    "\n",
    "        #거슬러야할 돈이 남았지만 money로 나누어지지 않을때\n",
    "        else:\n",
    "            continue\n",
    "    \n",
    "    print(f\"#{t}\")\n",
    "    print(*ans_list)  #unpacking\n",
    "        \n",
    "        \n"
   ]
  }
 ],
 "metadata": {
  "kernelspec": {
   "display_name": "Python 3",
   "language": "python",
   "name": "python3"
  },
  "language_info": {
   "codemirror_mode": {
    "name": "ipython",
    "version": 3
   },
   "file_extension": ".py",
   "mimetype": "text/x-python",
   "name": "python",
   "nbconvert_exporter": "python",
   "pygments_lexer": "ipython3",
   "version": "3.11.9"
  }
 },
 "nbformat": 4,
 "nbformat_minor": 5
}
